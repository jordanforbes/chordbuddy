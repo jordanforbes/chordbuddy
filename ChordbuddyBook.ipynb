{
 "metadata": {
  "language_info": {
   "codemirror_mode": {
    "name": "ipython",
    "version": 3
   },
   "file_extension": ".py",
   "mimetype": "text/x-python",
   "name": "python",
   "nbconvert_exporter": "python",
   "pygments_lexer": "ipython3",
   "version": "3.9.11"
  },
  "orig_nbformat": 2,
  "kernelspec": {
   "name": "python3911jvsc74a57bd0b146a61ac714683d70ac0d0bb800a3b9e98f43cc9f53d48a21818f97179280ed",
   "display_name": "Python 3.9.11 64-bit"
  },
  "metadata": {
   "interpreter": {
    "hash": "b146a61ac714683d70ac0d0bb800a3b9e98f43cc9f53d48a21818f97179280ed"
   }
  }
 },
 "nbformat": 4,
 "nbformat_minor": 2,
 "cells": [
  {
   "source": [
    "3/24/22\n",
    "\n",
    "this is my first time using Jupyter Notebook but I love the concept. \n",
    "\n",
    "Chordbuddy\n",
    "\n",
    "the ultimate version of this was conceived as clicking multiple notes on a fretboard and have it return to you which chords those notes belong to. \n",
    "\n",
    "Architecture:\n",
    "\n",
    "Major Triad Checker\n",
    "Input: (n1, n2, n3)"
   ],
   "cell_type": "markdown",
   "metadata": {}
  },
  {
   "source": [
    "import numpy as np\n",
    "\n",
    "def printTriad(n1,n2,n3):\n",
    "    print(n1+\" \"+n2+\" \"+n3)\n",
    "\n",
    "printTriad(\"A\",\"C\",\"E\")"
   ],
   "cell_type": "code",
   "metadata": {},
   "execution_count": 24,
   "outputs": [
    {
     "output_type": "stream",
     "name": "stdout",
     "text": [
      "A C E\n"
     ]
    }
   ]
  },
  {
   "source": [
    "I got it to print. Now what? Next I should make it check if the chord is 0,4,7 which correlates to Root, Major 3rd, and Perfect 5th, the Major triad.\n",
    "The Root will always be zero because this is after conversion. It should be an array. Would that be Yagni? I should learn about arrays but maybe not use them yet."
   ],
   "cell_type": "markdown",
   "metadata": {}
  },
  {
   "cell_type": "code",
   "execution_count": 44,
   "metadata": {},
   "outputs": [
    {
     "output_type": "stream",
     "name": "stdout",
     "text": [
      "major chord\nminor chord\nwhat are you a jazz guy?\n"
     ]
    }
   ],
   "source": [
    "def triadIntervalChecker(n1,n2,n3):\n",
    "\n",
    "    chordArr = np.array([n1,n2,n3])\n",
    "\n",
    "    majTri = np.array([0,4,7])\n",
    "    minTri = np.array([0,3,7])\n",
    "\n",
    "    if np.array_equal(majTri,chordArr):\n",
    "        print(\"major chord\")\n",
    "    elif np.array_equal(minTri,chordArr):\n",
    "        print(\"minor chord\")\n",
    "    else:\n",
    "        print(\"what are you a jazz guy?\")\n",
    "\n",
    "\n",
    "triadIntervalChecker(0,4,7)\n",
    "triadIntervalChecker(0,3,7)\n",
    "triadIntervalChecker(1,3,5)\n"
   ]
  },
  {
   "source": [
    "the current issue is that I need it to iterate and compare each element with another. \n",
    "after looking it up I think numpy would help with this. \n",
    "10:16 AM\n",
    "\n",
    "numpy is pretty cool. Now I have something that checks if there's an interval match. I should probably find a better way to do this than else statements but, again, YAGNI. \n",
    "next I should make a function that automatically packs things into a numpy array because it's annoying to type. \n",
    "10:28\n",
    "\n",
    "ah, that was easy\n",
    "10:30\n",
    "\n",
    "Next I should do something which takes the note indexes and reduces them to the absolute value that determines that they're major or minor. I don't know a simpler way to explain it but there has to be one. \n",
    "10:32\n",
    "\n",
    "it should be a statement that checks the first element. If the element is more than zero, it should subtract that number from each element, but if that makes the element negative it adds 12 to it, simulating an octave.\n",
    "10:38 "
   ],
   "cell_type": "markdown",
   "metadata": {}
  },
  {
   "cell_type": "code",
   "execution_count": null,
   "metadata": {},
   "outputs": [],
   "source": [
    "notes = [\"c\",\"cs\",\"d\",\"ds\",\"e\",\"f\",\"fs\",\"g\",\"gs\",\"a\",\"as\",\"b\"]\n",
    "\n"
   ]
  }
 ]
}