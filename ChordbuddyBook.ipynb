{
 "metadata": {
  "language_info": {
   "codemirror_mode": {
    "name": "ipython",
    "version": 3
   },
   "file_extension": ".py",
   "mimetype": "text/x-python",
   "name": "python",
   "nbconvert_exporter": "python",
   "pygments_lexer": "ipython3",
   "version": "3.9.11"
  },
  "orig_nbformat": 2,
  "kernelspec": {
   "name": "python3911jvsc74a57bd0b146a61ac714683d70ac0d0bb800a3b9e98f43cc9f53d48a21818f97179280ed",
   "display_name": "Python 3.9.11 64-bit"
  },
  "metadata": {
   "interpreter": {
    "hash": "b146a61ac714683d70ac0d0bb800a3b9e98f43cc9f53d48a21818f97179280ed"
   }
  }
 },
 "nbformat": 4,
 "nbformat_minor": 2,
 "cells": [
  {
   "source": [
    "3/24/22\n",
    "\n",
    "this is my first time using Jupyter Notebook but I love the concept. \n",
    "\n",
    "Chordbuddy\n",
    "\n",
    "the ultimate version of this was conceived as clicking multiple notes on a fretboard and have it return to you which chords those notes belong to. \n",
    "\n",
    "Architecture:\n",
    "\n",
    "Major Triad Checker\n",
    "Input: (n1, n2, n3)"
   ],
   "cell_type": "markdown",
   "metadata": {}
  },
  {
   "source": [
    "def printTriad(n1,n2,n3):\n",
    "    print(n1+\" \"+n2+\" \"+n3)\n",
    "\n",
    "printTriad(\"A\",\"C\",\"E\")"
   ],
   "cell_type": "code",
   "metadata": {},
   "execution_count": 18,
   "outputs": [
    {
     "output_type": "stream",
     "name": "stdout",
     "text": [
      "A C E\n"
     ]
    }
   ]
  },
  {
   "source": [
    "I got it to print. Now what? Next I should make it check if the chord is 0,4,7 which correlates to Root, Major 3rd, and Perfect 5th, the Major triad.\n",
    "The Root will always be zero because this is after conversion. It should be an array. Would that be Yagni? I should learn about arrays but maybe not use them yet."
   ],
   "cell_type": "markdown",
   "metadata": {}
  },
  {
   "cell_type": "code",
   "execution_count": 22,
   "metadata": {},
   "outputs": [
    {
     "output_type": "stream",
     "name": "stdout",
     "text": [
      "0\n"
     ]
    },
    {
     "output_type": "error",
     "ename": "AttributeError",
     "evalue": "'int' object has no attribute 'index'",
     "traceback": [
      "\u001b[1;31m---------------------------------------------------------------------------\u001b[0m",
      "\u001b[1;31mAttributeError\u001b[0m                            Traceback (most recent call last)",
      "Input \u001b[1;32mIn [22]\u001b[0m, in \u001b[0;36m<cell line: 11>\u001b[1;34m()\u001b[0m\n\u001b[0;32m      8\u001b[0m         \u001b[38;5;28mprint\u001b[39m(n)\n\u001b[0;32m      9\u001b[0m         \u001b[38;5;28mprint\u001b[39m(n\u001b[38;5;241m.\u001b[39mindex())\n\u001b[1;32m---> 11\u001b[0m \u001b[43mtriadIntervalChecker\u001b[49m\u001b[43m(\u001b[49m\u001b[43mnoteInts\u001b[49m\u001b[43m)\u001b[49m\n",
      "Input \u001b[1;32mIn [22]\u001b[0m, in \u001b[0;36mtriadIntervalChecker\u001b[1;34m(chordArr)\u001b[0m\n\u001b[0;32m      7\u001b[0m \u001b[38;5;28;01mfor\u001b[39;00m n \u001b[38;5;129;01min\u001b[39;00m chordArr:\n\u001b[0;32m      8\u001b[0m     \u001b[38;5;28mprint\u001b[39m(n)\n\u001b[1;32m----> 9\u001b[0m     \u001b[38;5;28mprint\u001b[39m(\u001b[43mn\u001b[49m\u001b[38;5;241;43m.\u001b[39;49m\u001b[43mindex\u001b[49m())\n",
      "\u001b[1;31mAttributeError\u001b[0m: 'int' object has no attribute 'index'"
     ]
    }
   ],
   "source": [
    "majInts = [0,4,7]\n",
    "minInts = [0,3,7]\n",
    "\n",
    "def triadIntervalChecker(chordArr):\n",
    "    majTri = [0,4,7]\n",
    "    minTri = [0,3,7]\n",
    "    for n in chordArr:\n",
    "        print(n)\n",
    "\n",
    "triadIntervalChecker(noteInts)"
   ]
  },
  {
   "cell_type": "code",
   "execution_count": null,
   "metadata": {},
   "outputs": [],
   "source": []
  }
 ]
}