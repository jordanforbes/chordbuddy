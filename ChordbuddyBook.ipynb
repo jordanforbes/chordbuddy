{
 "metadata": {
  "language_info": {
   "codemirror_mode": {
    "name": "ipython",
    "version": 3
   },
   "file_extension": ".py",
   "mimetype": "text/x-python",
   "name": "python",
   "nbconvert_exporter": "python",
   "pygments_lexer": "ipython3",
   "version": "3.9.11"
  },
  "orig_nbformat": 2,
  "kernelspec": {
   "name": "python3911jvsc74a57bd0b146a61ac714683d70ac0d0bb800a3b9e98f43cc9f53d48a21818f97179280ed",
   "display_name": "Python 3.9.11 64-bit"
  },
  "metadata": {
   "interpreter": {
    "hash": "b146a61ac714683d70ac0d0bb800a3b9e98f43cc9f53d48a21818f97179280ed"
   }
  }
 },
 "nbformat": 4,
 "nbformat_minor": 2,
 "cells": [
  {
   "source": [
    "3/24/22\n",
    "\n",
    "this is my first time using Jupyter Notebook but I love the concept. \n",
    "\n",
    "Chordbuddy\n",
    "\n",
    "the ultimate version of this was conceived as clicking multiple notes on a fretboard and have it return to you which chords those notes belong to. \n",
    "\n",
    "Architecture:\n",
    "\n",
    "Major Triad Checker\n",
    "Input: (n1, n2, n3)"
   ],
   "cell_type": "markdown",
   "metadata": {}
  },
  {
   "source": [
    "import numpy as np\n",
    "\n",
    "def printTriad(n1,n2,n3):\n",
    "    print(n1+\" \"+n2+\" \"+n3)\n",
    "\n",
    "printTriad(\"A\",\"C\",\"E\")"
   ],
   "cell_type": "code",
   "metadata": {},
   "execution_count": 24,
   "outputs": [
    {
     "output_type": "stream",
     "name": "stdout",
     "text": [
      "A C E\n"
     ]
    }
   ]
  },
  {
   "source": [
    "I got it to print. Now what? Next I should make it check if the chord is 0,4,7 which correlates to Root, Major 3rd, and Perfect 5th, the Major triad.\n",
    "The Root will always be zero because this is after conversion. It should be an array. Would that be Yagni? I should learn about arrays but maybe not use them yet."
   ],
   "cell_type": "markdown",
   "metadata": {}
  },
  {
   "cell_type": "code",
   "execution_count": 55,
   "metadata": {},
   "outputs": [
    {
     "output_type": "stream",
     "name": "stdout",
     "text": [
      "minor chord\n"
     ]
    }
   ],
   "source": [
    "# def triadIntervalChecker(arr):\n",
    "\n",
    "#     chordArr = np.array(arr)\n",
    "\n",
    "#     majTri = np.array([0,4,7])\n",
    "#     minTri = np.array([0,3,7])\n",
    "\n",
    "#     if np.array_equal(majTri,chordArr):\n",
    "#         print(\"major chord\")\n",
    "#     elif np.array_equal(minTri,chordArr):\n",
    "#         print(\"minor chord\")\n",
    "#     else:\n",
    "#         print(\"what are you a jazz guy?\")\n",
    "\n",
    "\n",
    "# triadIntervalChecker(0,4,7)\n",
    "# triadIntervalChecker(0,3,7)\n",
    "# triadIntervalChecker(1,3,5)\n",
    "# print(transposer(9,3))\n",
    "\n",
    "triadIntervalChecker([0,3,7])\n"
   ]
  },
  {
   "source": [
    "the current issue is that I need it to iterate and compare each element with another. \n",
    "after looking it up I think numpy would help with this. \n",
    "10:16 AM\n",
    "\n",
    "numpy is pretty cool. Now I have something that checks if there's an interval match. I should probably find a better way to do this than else statements but, again, YAGNI. \n",
    "next I should make a function that automatically packs things into a numpy array because it's annoying to type. \n",
    "10:28\n",
    "\n",
    "ah, that was easy\n",
    "10:30\n",
    "\n",
    "Next I should do something which takes the note indexes and reduces them to the absolute value that determines that they're major or minor. I don't know a simpler way to explain it but there has to be one. \n",
    "10:32\n",
    "\n",
    "it should be a statement that checks the first element. If the element is more than zero, it should subtract that number from each element, but if that makes the element negative it adds 12 to it, simulating an octave.\n",
    "10:38 "
   ],
   "cell_type": "markdown",
   "metadata": {}
  },
  {
   "cell_type": "code",
   "execution_count": 70,
   "metadata": {},
   "outputs": [
    {
     "output_type": "stream",
     "name": "stdout",
     "text": [
      "A\nmajor chord\n"
     ]
    }
   ],
   "source": [
    "# notes = [\"C\",\"C#\",\"D\",\"D#\",\"E\",\"F\",\"F#\",\"G\",\"G#\",\"A\",\"A#\",\"B\"]\n",
    "\n",
    "\n",
    "# def noteTransposer(n,amt):\n",
    "#     n = n-amt \n",
    "#     if n < 0:\n",
    "#         n = n+12\n",
    "#         return n\n",
    "#     else:\n",
    "#         return n\n",
    "\n",
    "# def intervalABS():\n",
    "#     intervals = [9,1,4]\n",
    "#     transpose = 0\n",
    "\n",
    "#     if intervals(0) > 0:\n",
    "#         transpose = intervals(0)\n",
    "\n",
    "# print(noteTransposer(9,9)) #0\n",
    "# print(noteTransposer(1,9)) #4\n",
    "# print(noteTransposer(4,9)) #7\n",
    "\n",
    "# def chordTransposer(chordArr):\n",
    "#     root = chordArr[0]\n",
    "#     print(notes[root])\n",
    "#     chordInts= []\n",
    "#     if root > 0:\n",
    "#         for n in chordArr:\n",
    "#             chordInts.append(noteTransposer(n, root))\n",
    "#         return chordInts\n",
    "    # else: \n",
    "    #     return chordArr \n",
    "\n",
    "# print(chordTransposer([9,1,4]))\n",
    "triadIntervalChecker(chordTransposer([9,1,4]))\n",
    "# print(triadIntervalChecker(chordTransposer([2,5,9])))\n"
   ]
  },
  {
   "source": [
    "created transposer function. By iterating through it I should be able to make this work for each individual element. \n",
    "\n",
    "10:49am- stopped to eat\n",
    "\n",
    "9:56pm- created chordTransposer to apply noteTransposer to full chords.\n",
    "\n",
    "10:10pm- shifted triadIntervalChecker to take in arrays and connected it to the chordTransposer. Where is the \"none\" coming from?\n",
    "\n",
    "\n",
    "current status: can introduce a non-transposed chord index, have it transposed, and then test if it's a major or minor triad. \n",
    "\n",
    "theoretical note array:\n",
    "{\n",
    "    \"C\",\n",
    "    [\"C#\",\"Db\"],\n",
    "    \"D\",\n",
    "    [\"D#\",\"Eb\"],\n",
    "    \"E\",\n",
    "    \"F\",\n",
    "    [\"F#\",\"Gb\"],\n",
    "    \"G\",\n",
    "    [\"G#\",\"Ab\"],\n",
    "    \"A\",\n",
    "    [\"A#\",\"Bb\"],\n",
    "    \"B\"\n",
    "}\n",
    "\n",
    "10:23pm-stopped\n",
    "\n",
    "11:56pm 3/25- started again. \n",
    "Need to find out why it says \"none\" when printing. "
   ],
   "cell_type": "markdown",
   "metadata": {}
  },
  {
   "cell_type": "code",
   "execution_count": 102,
   "metadata": {},
   "outputs": [
    {
     "output_type": "error",
     "ename": "TypeError",
     "evalue": "unsupported operand type(s) for +: 'int' and 'str'",
     "traceback": [
      "\u001b[1;31m---------------------------------------------------------------------------\u001b[0m",
      "\u001b[1;31mTypeError\u001b[0m                                 Traceback (most recent call last)",
      "Input \u001b[1;32mIn [102]\u001b[0m, in \u001b[0;36m<cell line: 57>\u001b[1;34m()\u001b[0m\n\u001b[0;32m     51\u001b[0m         \u001b[38;5;28;01mreturn\u001b[39;00m n\n\u001b[0;32m     54\u001b[0m \u001b[38;5;66;03m# noteEntry(\"C\",\"E\",\"G\")\u001b[39;00m\n\u001b[0;32m     55\u001b[0m \n\u001b[0;32m     56\u001b[0m \u001b[38;5;66;03m# triadIntervalChecker([7,10,2])\u001b[39;00m\n\u001b[1;32m---> 57\u001b[0m \u001b[43mtriadIntervalChecker\u001b[49m\u001b[43m(\u001b[49m\u001b[43m)\u001b[49m\n",
      "Input \u001b[1;32mIn [102]\u001b[0m, in \u001b[0;36mtriadIntervalChecker\u001b[1;34m()\u001b[0m\n\u001b[0;32m     19\u001b[0m minTri \u001b[38;5;241m=\u001b[39m np\u001b[38;5;241m.\u001b[39marray([\u001b[38;5;241m0\u001b[39m,\u001b[38;5;241m3\u001b[39m,\u001b[38;5;241m7\u001b[39m]) \u001b[38;5;66;03m#minor triad\u001b[39;00m\n\u001b[0;32m     21\u001b[0m \u001b[38;5;28;01mif\u001b[39;00m np\u001b[38;5;241m.\u001b[39marray_equal(majTri,chordArr): \u001b[38;5;66;03m#numpy array method\u001b[39;00m\n\u001b[1;32m---> 22\u001b[0m     \u001b[38;5;28mprint\u001b[39m(\u001b[43mrootName\u001b[49m\u001b[38;5;241;43m+\u001b[39;49m\u001b[38;5;124;43m\"\u001b[39;49m\u001b[38;5;124;43m major chord\u001b[39;49m\u001b[38;5;124;43m\"\u001b[39;49m)\n\u001b[0;32m     23\u001b[0m \u001b[38;5;28;01melif\u001b[39;00m np\u001b[38;5;241m.\u001b[39marray_equal(minTri,chordArr): \u001b[38;5;66;03m#numpy array method\u001b[39;00m\n\u001b[0;32m     24\u001b[0m     \u001b[38;5;28mprint\u001b[39m(rootName\u001b[38;5;241m+\u001b[39m\u001b[38;5;124m\"\u001b[39m\u001b[38;5;124m minor chord\u001b[39m\u001b[38;5;124m\"\u001b[39m)\n",
      "\u001b[1;31mTypeError\u001b[0m: unsupported operand type(s) for +: 'int' and 'str'"
     ]
    }
   ],
   "source": [
    "notes = [\"C\",\"C#\",\"D\",\"D#\",\"E\",\"F\",\"F#\",\"G\",\"G#\",\"A\",\"A#\",\"B\"]\n",
    "\n",
    "\n",
    "def triadIntervalChecker(): #current main method\n",
    "    arr=[]\n",
    "    arr.append(input(\"First Note: \"))\n",
    "    arr.append(input(\"Second Note: \"))\n",
    "    arr.append(input(\"Third Note: \"))\n",
    "\n",
    "    rootName = arr[0]\n",
    "\n",
    "    arr = noteEntry(arr)\n",
    "   \n",
    "\n",
    "    chordArr = np.array(chordTransposer(arr)) #call chord transposer\n",
    "\n",
    "    rootInt = chordArr[0]\n",
    "\n",
    "    majTri = np.array([0,4,7]) #major triad\n",
    "    minTri = np.array([0,3,7]) #minor triad\n",
    "\n",
    "    if np.array_equal(majTri,chordArr): #numpy array method\n",
    "        print(rootName+\" major chord\")\n",
    "    elif np.array_equal(minTri,chordArr): #numpy array method\n",
    "        print(rootName+\" minor chord\")\n",
    "    else:\n",
    "        print(\"what are you a jazz guy?\")\n",
    "\n",
    "\n",
    "def chordTransposer(chordArr):\n",
    "    root = chordArr[0]\n",
    "    chordInts= []\n",
    "    if root > 0:\n",
    "        for n in chordArr:\n",
    "            chordInts.append(noteTransposer(n, root)) #call note transposer\n",
    "        return chordInts\n",
    "    else: \n",
    "        return chordArr \n",
    "\n",
    "\n",
    "def noteEntry(noteArr):\n",
    "    intervalArr = [notes.index(noteArr[0]),notes.index(noteArr[1]),notes.index(noteArr[2])]\n",
    "    return intervalArr\n",
    "\n",
    "\n",
    "def noteTransposer(n,amt):\n",
    "    n = n-amt \n",
    "    if n < 0:\n",
    "        n = n+12\n",
    "        return n\n",
    "    else:\n",
    "        return n\n",
    "\n",
    "\n",
    "# noteEntry(\"C\",\"E\",\"G\")\n",
    "\n",
    "# triadIntervalChecker([7,10,2])\n",
    "triadIntervalChecker()\n"
   ]
  },
  {
   "source": [
    "make A and major chord be on the same line in the same object/variable/whatever\n",
    "\n",
    "12:17 am- next there needs to be an interpeter to translate the note titles into the initial interval numbers. \n",
    "Typing in C,E,G will cross check it against the notes array, and the index will be the interval.\n",
    "\n"
   ],
   "cell_type": "markdown",
   "metadata": {}
  },
  {
   "cell_type": "code",
   "execution_count": 94,
   "metadata": {},
   "outputs": [
    {
     "output_type": "stream",
     "name": "stdout",
     "text": [
      "['3', '4']\n"
     ]
    }
   ],
   "source": [
    "x = []\n",
    "x.append(input(\"x1 is what\"))\n",
    "x.append(input(\"x2 is what\"))\n",
    "print(x)"
   ]
  },
  {
   "cell_type": "code",
   "execution_count": null,
   "metadata": {},
   "outputs": [],
   "source": []
  }
 ]
}