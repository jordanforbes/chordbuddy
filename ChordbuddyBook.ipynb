{
 "metadata": {
  "language_info": {
   "codemirror_mode": {
    "name": "ipython",
    "version": 3
   },
   "file_extension": ".py",
   "mimetype": "text/x-python",
   "name": "python",
   "nbconvert_exporter": "python",
   "pygments_lexer": "ipython3",
   "version": "3.9.11"
  },
  "orig_nbformat": 2,
  "kernelspec": {
   "name": "python3911jvsc74a57bd0b146a61ac714683d70ac0d0bb800a3b9e98f43cc9f53d48a21818f97179280ed",
   "display_name": "Python 3.9.11 64-bit"
  },
  "metadata": {
   "interpreter": {
    "hash": "b146a61ac714683d70ac0d0bb800a3b9e98f43cc9f53d48a21818f97179280ed"
   }
  }
 },
 "nbformat": 4,
 "nbformat_minor": 2,
 "cells": [
  {
   "source": [
    "3/24/22\n",
    "\n",
    "this is my first time using Jupyter Notebook but I love the concept. \n",
    "\n",
    "Chordbuddy\n",
    "\n",
    "the ultimate version of this was conceived as clicking multiple notes on a fretboard and have it return to you which chords those notes belong to. \n",
    "\n",
    "Architecture:\n",
    "\n",
    "Major Triad Checker\n",
    "Input: (n1, n2, n3)"
   ],
   "cell_type": "markdown",
   "metadata": {}
  },
  {
   "cell_type": "code",
   "execution_count": 16,
   "metadata": {},
   "outputs": [
    {
     "output_type": "stream",
     "name": "stdout",
     "text": [
      "hello\n"
     ]
    }
   ],
   "source": [
    "def majorTriadBool(n1,n2,n3):\n",
    "    print(n1+\" \"+n2+\" \"+n3)\n",
    "\n",
    "majorTriadBool(\"A\",\"C\",\"E\")"
   ]
  },
  {
   "cell_type": "code",
   "execution_count": null,
   "metadata": {},
   "outputs": [],
   "source": []
  }
 ]
}